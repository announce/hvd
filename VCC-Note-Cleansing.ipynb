{
 "cells": [
  {
   "cell_type": "markdown",
   "metadata": {
    "collapsed": true
   },
   "source": [
    "#### TODO\n",
    "* Precision-Recall http://scikit-learn.org/stable/auto_examples/model_selection/plot_precision_recall.html\n",
    "* Use Git meta data as feature"
   ]
  },
  {
   "cell_type": "markdown",
   "metadata": {},
   "source": [
    "#### Columns\n",
    "0. id\n",
    "1. repository_id\n",
    "2. blamed_commit_id\n",
    "3. type\n",
    "4. sha\n",
    "5. url\n",
    "6. author_email\n",
    "7. author_name\n",
    "8. author_when\n",
    "9. committer_email\n",
    "10. committer_name\n",
    "11. committer_when\n",
    "12. additions\n",
    "13. deletions\n",
    "14. total_changes\n",
    "15. past_changes\n",
    "16. future_changes\n",
    "17. past_different_authors\n",
    "18. future_different_authors\n",
    "19. author_contributions_percent\n",
    "20. message\n",
    "21. patch\n",
    "22. hunk_count\n",
    "23. cve\n",
    "24. files_changed\n",
    "25. patch_keywords"
   ]
  },
  {
   "cell_type": "code",
   "execution_count": 1,
   "metadata": {
    "collapsed": false,
    "slideshow": {
     "slide_type": "-"
    }
   },
   "outputs": [
    {
     "data": {
      "text/plain": [
       "[('blamed_commit', 714L), ('fixing_commit', 1137L), ('other_commit', 349558L)]"
      ]
     },
     "execution_count": 1,
     "metadata": {},
     "output_type": "execute_result"
    }
   ],
   "source": [
    "import psycopg2\n",
    "conn = psycopg2.connect(\"dbname=postgres host=localhost port=55432 user=postgres\")\n",
    "cur = conn.cursor()\n",
    "cur.execute(\"SELECT type, COUNT(id) FROM export.commits GROUP BY type\")\n",
    "cur.fetchall()\n"
   ]
  },
  {
   "cell_type": "code",
   "execution_count": 16,
   "metadata": {
    "collapsed": false
   },
   "outputs": [
    {
     "ename": "UnidiffParseError",
     "evalue": "Hunk diff line expected: index 4fdc414..44faea4 100644",
     "output_type": "error",
     "traceback": [
      "\u001b[0;31m---------------------------------------------------------------------------\u001b[0m",
      "\u001b[0;31mUnidiffParseError\u001b[0m                         Traceback (most recent call last)",
      "\u001b[0;32m<ipython-input-16-710952747aad>\u001b[0m in \u001b[0;36m<module>\u001b[0;34m()\u001b[0m\n\u001b[1;32m     40\u001b[0m \u001b[0;34m\u001b[0m\u001b[0m\n\u001b[1;32m     41\u001b[0m \u001b[0;31m# Note: Be sure that unicode(patch, 'utf-8')\u001b[0m\u001b[0;34m\u001b[0m\u001b[0;34m\u001b[0m\u001b[0m\n\u001b[0;32m---> 42\u001b[0;31m \u001b[0mtokens\u001b[0m \u001b[0;34m=\u001b[0m \u001b[0;34m[\u001b[0m\u001b[0;34mu\" \"\u001b[0m\u001b[0;34m.\u001b[0m\u001b[0mjoin\u001b[0m\u001b[0;34m(\u001b[0m\u001b[0mextract_lines\u001b[0m\u001b[0;34m(\u001b[0m\u001b[0mpatch\u001b[0m\u001b[0;34m.\u001b[0m\u001b[0msplitlines\u001b[0m\u001b[0;34m(\u001b[0m\u001b[0;34m)\u001b[0m\u001b[0;34m)\u001b[0m\u001b[0;34m)\u001b[0m \u001b[0;32mfor\u001b[0m \u001b[0mpatch\u001b[0m \u001b[0;32min\u001b[0m \u001b[0mpatches\u001b[0m\u001b[0;34m]\u001b[0m\u001b[0;34m\u001b[0m\u001b[0m\n\u001b[0m\u001b[1;32m     43\u001b[0m \u001b[0;34m\u001b[0m\u001b[0m\n\u001b[1;32m     44\u001b[0m \u001b[0;31m# vectorizer = CountVectorizer(min_df=1)\u001b[0m\u001b[0;34m\u001b[0m\u001b[0;34m\u001b[0m\u001b[0m\n",
      "\u001b[0;32m/Users/ymkjp/Dropbox/notebooks/diff_extractor.pyc\u001b[0m in \u001b[0;36mextract_lines\u001b[0;34m(data, query, normalizer)\u001b[0m\n\u001b[1;32m     17\u001b[0m     \u001b[0mquery\u001b[0m \u001b[0;34m=\u001b[0m \u001b[0mis_added_or_removed\u001b[0m \u001b[0;32mif\u001b[0m \u001b[0mquery\u001b[0m \u001b[0;32mis\u001b[0m \u001b[0mNone\u001b[0m \u001b[0;32melse\u001b[0m \u001b[0mquery\u001b[0m\u001b[0;34m\u001b[0m\u001b[0m\n\u001b[1;32m     18\u001b[0m     \u001b[0mnormalizer\u001b[0m \u001b[0;34m=\u001b[0m \u001b[0m_normalize\u001b[0m \u001b[0;32mif\u001b[0m \u001b[0mnormalizer\u001b[0m \u001b[0;32mis\u001b[0m \u001b[0mNone\u001b[0m \u001b[0;32melse\u001b[0m \u001b[0mnormalizer\u001b[0m\u001b[0;34m\u001b[0m\u001b[0m\n\u001b[0;32m---> 19\u001b[0;31m     \u001b[0mpatches\u001b[0m \u001b[0;34m=\u001b[0m \u001b[0mPatchSet\u001b[0m\u001b[0;34m(\u001b[0m\u001b[0mdata\u001b[0m\u001b[0;34m)\u001b[0m\u001b[0;34m\u001b[0m\u001b[0m\n\u001b[0m\u001b[1;32m     20\u001b[0m     return (normalizer(line)\n\u001b[1;32m     21\u001b[0m             \u001b[0;32mfor\u001b[0m \u001b[0mfiles\u001b[0m \u001b[0;32min\u001b[0m \u001b[0mpatches\u001b[0m \u001b[0;32mfor\u001b[0m \u001b[0mhunks\u001b[0m \u001b[0;32min\u001b[0m \u001b[0mfiles\u001b[0m \u001b[0;32mfor\u001b[0m \u001b[0mline\u001b[0m \u001b[0;32min\u001b[0m \u001b[0mhunks\u001b[0m\u001b[0;34m\u001b[0m\u001b[0m\n",
      "\u001b[0;32m/Users/ymkjp/.pyenv/versions/anaconda2-2.5.0/envs/py27/lib/python2.7/site-packages/unidiff/patch.pyc\u001b[0m in \u001b[0;36m__init__\u001b[0;34m(self, f, encoding)\u001b[0m\n\u001b[1;32m    276\u001b[0m         \u001b[0mdata\u001b[0m \u001b[0;34m=\u001b[0m \u001b[0miter\u001b[0m\u001b[0;34m(\u001b[0m\u001b[0mf\u001b[0m\u001b[0;34m)\u001b[0m\u001b[0;34m\u001b[0m\u001b[0m\n\u001b[1;32m    277\u001b[0m         \u001b[0;31m# if encoding is None, assume we are reading unicode data\u001b[0m\u001b[0;34m\u001b[0m\u001b[0;34m\u001b[0m\u001b[0m\n\u001b[0;32m--> 278\u001b[0;31m         \u001b[0mself\u001b[0m\u001b[0;34m.\u001b[0m\u001b[0m_parse\u001b[0m\u001b[0;34m(\u001b[0m\u001b[0mdata\u001b[0m\u001b[0;34m,\u001b[0m \u001b[0mencoding\u001b[0m\u001b[0;34m=\u001b[0m\u001b[0mencoding\u001b[0m\u001b[0;34m)\u001b[0m\u001b[0;34m\u001b[0m\u001b[0m\n\u001b[0m\u001b[1;32m    279\u001b[0m \u001b[0;34m\u001b[0m\u001b[0m\n\u001b[1;32m    280\u001b[0m     \u001b[0;32mdef\u001b[0m \u001b[0m__repr__\u001b[0m\u001b[0;34m(\u001b[0m\u001b[0mself\u001b[0m\u001b[0;34m)\u001b[0m\u001b[0;34m:\u001b[0m\u001b[0;34m\u001b[0m\u001b[0m\n",
      "\u001b[0;32m/Users/ymkjp/.pyenv/versions/anaconda2-2.5.0/envs/py27/lib/python2.7/site-packages/unidiff/patch.pyc\u001b[0m in \u001b[0;36m_parse\u001b[0;34m(self, diff, encoding)\u001b[0m\n\u001b[1;32m    318\u001b[0m                 \u001b[0;32mif\u001b[0m \u001b[0mcurrent_file\u001b[0m \u001b[0;32mis\u001b[0m \u001b[0mNone\u001b[0m\u001b[0;34m:\u001b[0m\u001b[0;34m\u001b[0m\u001b[0m\n\u001b[1;32m    319\u001b[0m                     \u001b[0;32mraise\u001b[0m \u001b[0mUnidiffParseError\u001b[0m\u001b[0;34m(\u001b[0m\u001b[0;34m'Unexpected hunk found: %s'\u001b[0m \u001b[0;34m%\u001b[0m \u001b[0mline\u001b[0m\u001b[0;34m)\u001b[0m\u001b[0;34m\u001b[0m\u001b[0m\n\u001b[0;32m--> 320\u001b[0;31m                 \u001b[0mcurrent_file\u001b[0m\u001b[0;34m.\u001b[0m\u001b[0m_parse_hunk\u001b[0m\u001b[0;34m(\u001b[0m\u001b[0mline\u001b[0m\u001b[0;34m,\u001b[0m \u001b[0mdiff\u001b[0m\u001b[0;34m,\u001b[0m \u001b[0mencoding\u001b[0m\u001b[0;34m)\u001b[0m\u001b[0;34m\u001b[0m\u001b[0m\n\u001b[0m\u001b[1;32m    321\u001b[0m \u001b[0;34m\u001b[0m\u001b[0m\n\u001b[1;32m    322\u001b[0m     \u001b[0;34m@\u001b[0m\u001b[0mclassmethod\u001b[0m\u001b[0;34m\u001b[0m\u001b[0m\n",
      "\u001b[0;32m/Users/ymkjp/.pyenv/versions/anaconda2-2.5.0/envs/py27/lib/python2.7/site-packages/unidiff/patch.pyc\u001b[0m in \u001b[0;36m_parse_hunk\u001b[0;34m(self, header, diff, encoding)\u001b[0m\n\u001b[1;32m    191\u001b[0m             \u001b[0mvalid_line\u001b[0m \u001b[0;34m=\u001b[0m \u001b[0mRE_HUNK_BODY_LINE\u001b[0m\u001b[0;34m.\u001b[0m\u001b[0mmatch\u001b[0m\u001b[0;34m(\u001b[0m\u001b[0mline\u001b[0m\u001b[0;34m)\u001b[0m\u001b[0;34m\u001b[0m\u001b[0m\n\u001b[1;32m    192\u001b[0m             \u001b[0;32mif\u001b[0m \u001b[0;32mnot\u001b[0m \u001b[0mvalid_line\u001b[0m\u001b[0;34m:\u001b[0m\u001b[0;34m\u001b[0m\u001b[0m\n\u001b[0;32m--> 193\u001b[0;31m                 \u001b[0;32mraise\u001b[0m \u001b[0mUnidiffParseError\u001b[0m\u001b[0;34m(\u001b[0m\u001b[0;34m'Hunk diff line expected: %s'\u001b[0m \u001b[0;34m%\u001b[0m \u001b[0mline\u001b[0m\u001b[0;34m)\u001b[0m\u001b[0;34m\u001b[0m\u001b[0m\n\u001b[0m\u001b[1;32m    194\u001b[0m \u001b[0;34m\u001b[0m\u001b[0m\n\u001b[1;32m    195\u001b[0m             \u001b[0mline_type\u001b[0m \u001b[0;34m=\u001b[0m \u001b[0mvalid_line\u001b[0m\u001b[0;34m.\u001b[0m\u001b[0mgroup\u001b[0m\u001b[0;34m(\u001b[0m\u001b[0;34m'line_type'\u001b[0m\u001b[0;34m)\u001b[0m\u001b[0;34m\u001b[0m\u001b[0m\n",
      "\u001b[0;31mUnidiffParseError\u001b[0m: Hunk diff line expected: index 4fdc414..44faea4 100644"
     ]
    }
   ],
   "source": [
    "import matplotlib.pyplot as plt\n",
    "from sklearn.metrics import precision_recall_curve\n",
    "from sklearn.metrics import average_precision_score\n",
    "from sklearn.cross_validation import train_test_split\n",
    "from sklearn.svm import LinearSVC\n",
    "from sklearn.feature_extraction.text import CountVectorizer\n",
    "from sklearn.preprocessing import label_binarize\n",
    "from sklearn import cross_validation\n",
    "import numpy as np\n",
    "import scipy as sp\n",
    "import enum\n",
    "from datetime import datetime\n",
    "from diff_extractor import extract_lines, extract_added_lines, extract_removed_lines\n",
    "\n",
    "class Colum(enum.IntEnum):\n",
    "    id = 1\n",
    "    type = 3\n",
    "    additions = 13\n",
    "    deletions = 14\n",
    "    past_different_authors = 18\n",
    "    future_different_authors = 19\n",
    "    author_contributions_percent = 20\n",
    "    patch = 21\n",
    "    hunk_count = 23\n",
    "    files_changed = 25\n",
    "    \n",
    "def fetch(filename, key = None):\n",
    "    npz = np.load(filename)\n",
    "    key = npz.files[0] if key is None else key\n",
    "    data = npz[key]\n",
    "    npz.close()\n",
    "    return data\n",
    "\n",
    "\n",
    "# data = fetch('var/vcc_sample_40x800.npz')\n",
    "data = fetch('var/vcc_data.npz')\n",
    "\n",
    "patches = data[:, Colum.patch]\n",
    "labels = data[:, Colum.type]\n",
    "\n",
    "# Note: Be sure that unicode(patch, 'utf-8')\n",
    "tokens = [u\" \".join(extract_lines(patch.splitlines())) for patch in patches]\n",
    "print tokens[-1]\n",
    "\n",
    "# vectorizer = CountVectorizer(min_df=1)\n",
    "# vectorized = vectorizer.fit_transform(text)\n",
    "# # feature_names = vectorizer.get_feature_names()\n",
    "# X = vectorized.toarray()\n",
    "\n",
    "# y = is_vcc = (labels == 'blamed_commit')\n",
    "\n",
    "# # Metrics from Git metadata\n",
    "# additions = data[:, Colum.additions]\n",
    "# deletions = data[:, Colum.deletions]\n",
    "# pd_authors = data[:, Colum.past_different_authors]\n",
    "# fd_authors = data[:, Colum.future_different_authors]\n",
    "# ac_rate = data[:, Colum.author_contributions_percent]\n",
    "# hunk_count = data[:, Colum.hunk_count]\n",
    "# files_changed = data[:, Colum.files_changed]\n",
    "\n",
    "# TODO\n",
    "# https://docs.scipy.org/doc/numpy-1.9.1/reference/generated/numpy.log.html\n",
    "\n",
    "# # Split into training and test\n",
    "# X_train, X_test, y_train, y_test = train_test_split(X, y, test_size=.5, random_state=0)\n",
    "\n",
    "# # Run classifier\n",
    "# classifier = LinearSVC(C=1.0)\n",
    "# y_score = classifier.fit(X_train, y_train).decision_function(X_test)\n",
    "\n",
    "# # Compute Precision-Recall and plot curve\n",
    "# precision = dict()\n",
    "# recall = dict()\n",
    "# average_precision = dict()\n",
    "# precision[0], recall[0], _ = precision_recall_curve(y_test, y_score)\n",
    "# average_precision[0] = average_precision_score(y_test, y_score)\n",
    "\n",
    "# print precision, recall, average_precision\n",
    "\n",
    "# # Plot Precision-Recall curve\n",
    "# plt.clf()\n",
    "# plt.plot(recall[0], precision[0], label='Precision-Recall curve')\n",
    "# plt.xlabel('Recall')\n",
    "# plt.ylabel('Precision')\n",
    "# plt.ylim([0.0, 1.05])\n",
    "# plt.xlim([0.0, 1.0])\n",
    "# plt.title('Precision-Recall example: AUC={0:0.2f}'.format(average_precision[0]))\n",
    "# plt.legend(loc=\"lower left\")\n",
    "# plt.show()\n",
    "\n",
    "# plt.savefig(\"figure_%s\" % datetime.now().strftime('%s'))\n"
   ]
  },
  {
   "cell_type": "code",
   "execution_count": 23,
   "metadata": {
    "collapsed": false
   },
   "outputs": [],
   "source": [
    "import psycopg2\n",
    "import psycopg2.extensions\n",
    "\n",
    "fp = open('6b741be98ed571cd8e18d68df88c25e61fc87305.patch')\n",
    "patch = fp.read()\n",
    "fp.close()\n",
    "\n",
    "conn = psycopg2.connect(\"dbname=postgres host=localhost port=55432 user=postgres\")\n",
    "cursor = conn.cursor()\n",
    "cursor.execute(\"UPDATE export.commits SET patch=(%s) WHERE id = (%s)\", (patch,12315129,));\n",
    "conn.commit()\n",
    "cursor.close()"
   ]
  },
  {
   "cell_type": "code",
   "execution_count": 25,
   "metadata": {
    "collapsed": false
   },
   "outputs": [
    {
     "name": "stdout",
     "output_type": "stream",
     "text": [
      "Started parsing patches...\n",
      "diff --git a/include/libvirt/libvirt.h.in b/include/libvirt/libvirt.h.in\n",
      "index 4eae7bf..7bd3559 100644\n",
      "--- a/include/libvirt/libvirt.h.in\n",
      "+++ b/include/libvirt/libvirt.h.in\n",
      "@@ -181,7 +181,7 @@ typedef enum {\n",
      "     VIR_DOMAIN_PAUSED_FROM_SNAPSHOT = 7, /* paused after restoring from snapshot */\n",
      "     VIR_DOMAIN_PAUSED_SHUTTING_DOWN = 8, /* paused during shutdown process */\n",
      "     VIR_DOMAIN_PAUSED_SNAPSHOT = 9,      /* paused while creating a snapshot */\n",
      "-    VIR_DOMAIN_PAUSED_GUEST_PANICKED = 10, /* paused due to a guest panicked event */\n",
      "+    VIR_DOMAIN_PAUSED_CRASHED = 10,     /* paused due to a guest crash */\n",
      " \n",
      " #ifdef VIR_ENUM_SENTINELS\n",
      "     VIR_DOMAIN_PAUSED_LAST\n",
      "diff --git a/src/qemu/qemu_monitor.c b/src/qemu/qemu_monitor.c\n",
      "index 0b73411..5b2fb04 100644\n",
      "--- a/src/qemu/qemu_monitor.c\n",
      "+++ b/src/qemu/qemu_monitor.c\n",
      "@@ -3335,7 +3335,7 @@ int qemuMonitorVMStatusToPausedReason(const char *status)\n",
      "         return VIR_DOMAIN_PAUSED_WATCHDOG;\n",
      " \n",
      "     case QEMU_MONITOR_VM_STATUS_GUEST_PANICKED:\n",
      "-        return VIR_DOMAIN_PAUSED_GUEST_PANICKED;\n",
      "+        return VIR_DOMAIN_PAUSED_CRASHED;\n",
      " \n",
      "     /* unreachable from this point on */\n",
      "     case QEMU_MONITOR_VM_STATUS_LAST:\n",
      "diff --git a/src/qemu/qemu_process.c b/src/qemu/qemu_process.c\n",
      "index e8e459e..d631a6f 100644\n",
      "--- a/src/qemu/qemu_process.c\n",
      "+++ b/src/qemu/qemu_process.c\n",
      "@@ -27,7 +27,7 @@\n",
      "         vcpu = diff --git a/tools/virsh-domain-monitor.c b/tools/virsh-domain-monitor.c\n",
      "index 98fe7fe..b29b82a 100644\n",
      "--- a/tools/virsh-domain-monitor.c\n",
      "+++ b/tools/virsh-domain-monitor.c\n",
      "@@ -228,8 +228,8 @@ vshDomainStateReasonToString(int state, int reason)\n",
      "             return N_(\"shutting down\");\n",
      "         case VIR_DOMAIN_PAUSED_SNAPSHOT:\n",
      "             return N_(\"creating snapshot\");\n",
      "-        case VIR_DOMAIN_PAUSED_GUEST_PANICKED:\n",
      "-            return N_(\"guest panicked\");\n",
      "+        case VIR_DOMAIN_PAUSED_CRASHED:\n",
      "+            return N_(\"crashed\");\n",
      "         case VIR_DOMAIN_PAUSED_UNKNOWN:\n",
      "         case VIR_DOMAIN_PAUSED_LAST:\n",
      "             ;\n",
      "\n"
     ]
    },
    {
     "ename": "UnidiffParseError",
     "evalue": "Hunk diff line expected: index 98fe7fe..b29b82a 100644",
     "output_type": "error",
     "traceback": [
      "\u001b[0;31m---------------------------------------------------------------------------\u001b[0m",
      "\u001b[0;31mUnidiffParseError\u001b[0m                         Traceback (most recent call last)",
      "\u001b[0;32m<ipython-input-25-d8e48b5defe0>\u001b[0m in \u001b[0;36m<module>\u001b[0;34m()\u001b[0m\n\u001b[1;32m     44\u001b[0m \u001b[0;32mexcept\u001b[0m \u001b[0mUnidiffParseError\u001b[0m \u001b[0;32mas\u001b[0m \u001b[0me\u001b[0m\u001b[0;34m:\u001b[0m\u001b[0;34m\u001b[0m\u001b[0m\n\u001b[1;32m     45\u001b[0m     \u001b[0;32mprint\u001b[0m \u001b[0mpatch\u001b[0m\u001b[0;34m\u001b[0m\u001b[0m\n\u001b[0;32m---> 46\u001b[0;31m     \u001b[0;32mraise\u001b[0m \u001b[0me\u001b[0m\u001b[0;34m\u001b[0m\u001b[0m\n\u001b[0m\u001b[1;32m     47\u001b[0m \u001b[0;34m\u001b[0m\u001b[0m\n\u001b[1;32m     48\u001b[0m \u001b[0;32mprint\u001b[0m \u001b[0;34m'Completed cleansing!'\u001b[0m\u001b[0;34m\u001b[0m\u001b[0m\n",
      "\u001b[0;31mUnidiffParseError\u001b[0m: Hunk diff line expected: index 98fe7fe..b29b82a 100644"
     ]
    }
   ],
   "source": [
    "# Cleansing invalid patch\n",
    "# E.g.,\n",
    "# UnidiffParseError: Hunk diff line expected: index 4fdc414..44faea4 100644\n",
    "import numpy as np\n",
    "import scipy as sp\n",
    "import enum\n",
    "import psycopg2\n",
    "import psycopg2.extensions\n",
    "from datetime import datetime\n",
    "from diff_extractor import extract_lines, extract_added_lines, extract_removed_lines\n",
    "from unidiff.errors import UnidiffParseError\n",
    "\n",
    "psycopg2.extensions.register_type(psycopg2.extensions.UNICODE)\n",
    "psycopg2.extensions.register_type(psycopg2.extensions.UNICODEARRAY)\n",
    "\n",
    "class Colum(enum.IntEnum):\n",
    "    id = 1\n",
    "    type = 3\n",
    "    additions = 13\n",
    "    deletions = 14\n",
    "    past_different_authors = 18\n",
    "    future_different_authors = 19\n",
    "    author_contributions_percent = 20\n",
    "    patch = 21\n",
    "    hunk_count = 23\n",
    "    files_changed = 25\n",
    "    \n",
    "    \n",
    "class Data:\n",
    "    def __init__(self, config):\n",
    "        self.cur = psycopg2.connect(config).cursor()\n",
    "    def fetch(self, sql):\n",
    "        self.cur.execute(sql)\n",
    "        return self.cur.fetchall()\n",
    "\n",
    "data = Data(\"dbname=postgres host=localhost port=55432 user=postgres\")\n",
    "rows = np.array(data.fetch(\"SELECT * FROM export.commits -- WHERE id >= 12315129\"))\n",
    "patches = rows[:, Colum.patch]\n",
    "\n",
    "print 'Started parsing patches...'\n",
    "patch = [None]\n",
    "try:\n",
    "    cleansed_paches = [extract_lines(patch.splitlines()) for patch in patches]\n",
    "except UnidiffParseError as e:\n",
    "    print patch\n",
    "    raise e\n",
    "\n",
    "print 'Completed cleansing!'"
   ]
  },
  {
   "cell_type": "code",
   "execution_count": null,
   "metadata": {
    "collapsed": true
   },
   "outputs": [],
   "source": []
  }
 ],
 "metadata": {
  "kernelspec": {
   "display_name": "Python 2",
   "language": "python",
   "name": "python2"
  },
  "language_info": {
   "codemirror_mode": {
    "name": "ipython",
    "version": 2
   },
   "file_extension": ".py",
   "mimetype": "text/x-python",
   "name": "python",
   "nbconvert_exporter": "python",
   "pygments_lexer": "ipython2",
   "version": "2.7.11"
  }
 },
 "nbformat": 4,
 "nbformat_minor": 0
}
