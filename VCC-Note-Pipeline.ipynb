{
 "cells": [
  {
   "cell_type": "code",
   "execution_count": 1,
   "metadata": {
    "collapsed": false,
    "slideshow": {
     "slide_type": "-"
    }
   },
   "outputs": [
    {
     "data": {
      "text/plain": [
       "[('blamed_commit', 714L), ('fixing_commit', 1137L), ('other_commit', 349558L)]"
      ]
     },
     "execution_count": 1,
     "metadata": {},
     "output_type": "execute_result"
    }
   ],
   "source": [
    "import psycopg2\n",
    "conn = psycopg2.connect(\"dbname=postgres host=localhost port=55432 user=postgres\")\n",
    "cur = conn.cursor()\n",
    "cur.execute(\"SELECT type, COUNT(id) FROM export.commits GROUP BY type\")\n",
    "cur.fetchall()"
   ]
  },
  {
   "cell_type": "code",
   "execution_count": 7,
   "metadata": {
    "collapsed": false
   },
   "outputs": [
    {
     "name": "stdout",
     "output_type": "stream",
     "text": [
      "2017-04-14 20:09:26,820 - __main__ - INFO - Started loading data\n",
      "2017-04-14 20:09:26,820 - __main__ - INFO - Started loading data\n",
      "2017-04-14 20:09:26,820 - __main__ - INFO - Started loading data\n",
      "2017-04-14 20:09:26,820 - __main__ - INFO - Started loading data\n",
      "2017-04-14 20:09:26,820 - __main__ - INFO - Started loading data\n",
      "2017-04-14 20:09:26,820 - __main__ - INFO - Started loading data\n",
      "2017-04-14 20:09:26,820 - __main__ - INFO - Started loading data\n",
      "2017-04-14 20:09:27,182 - __main__ - INFO - Data loaded #840\n",
      "2017-04-14 20:09:27,182 - __main__ - INFO - Data loaded #840\n",
      "2017-04-14 20:09:27,182 - __main__ - INFO - Data loaded #840\n",
      "2017-04-14 20:09:27,182 - __main__ - INFO - Data loaded #840\n",
      "2017-04-14 20:09:27,182 - __main__ - INFO - Data loaded #840\n",
      "2017-04-14 20:09:27,182 - __main__ - INFO - Data loaded #840\n",
      "2017-04-14 20:09:27,182 - __main__ - INFO - Data loaded #840\n",
      "Start extracting lines...\n",
      "Completed extracting lines including #0 invalid patches.\n",
      "{0: 0.49202795774039909}\n"
     ]
    },
    {
     "data": {
      "image/png": "[encoded data removed]",
      "text/plain": [
       "<matplotlib.figure.Figure at 0x10d3666d0>"
      ]
     },
     "metadata": {},
     "output_type": "display_data"
    }
   ],
   "source": [
    "%matplotlib inline\n",
    "import sys\n",
    "from logging import getLogger, Formatter, StreamHandler, DEBUG\n",
    "import matplotlib.pyplot as plt\n",
    "from sklearn.metrics import precision_recall_curve\n",
    "from sklearn.metrics import average_precision_score\n",
    "from sklearn.cross_validation import train_test_split\n",
    "from sklearn.svm import LinearSVC\n",
    "from sklearn.feature_extraction.text import CountVectorizer\n",
    "from sklearn.preprocessing import label_binarize\n",
    "from sklearn import cross_validation\n",
    "import re\n",
    "import math\n",
    "import numpy as np\n",
    "import scipy as sp\n",
    "from scipy import sparse\n",
    "import enum\n",
    "from datetime import datetime\n",
    "from vccf.line_extractor import LineExtractor\n",
    "from vccf.logger import Logger\n",
    "from unidiff.errors import UnidiffParseError\n",
    "\n",
    "class Colum(enum.IntEnum):\n",
    "    id = 1\n",
    "    type = 3\n",
    "    additions = 13\n",
    "    deletions = 14\n",
    "    past_different_authors = 18\n",
    "    future_different_authors = 19\n",
    "    author_contributions_percent = 20\n",
    "    patch = 21\n",
    "    hunk_count = 23\n",
    "    files_changed = 25\n",
    "    \n",
    "def fetch(filename, key = None):\n",
    "    npz = np.load(filename)\n",
    "    key = npz.files[0] if key is None else key\n",
    "    data = npz[key]\n",
    "    npz.close()\n",
    "    return data\n",
    "\n",
    "\n",
    "logger = Logger.create(name=__name__)\n",
    "logger.info('Started loading data')\n",
    "data = fetch('var/vcc_sample_40x800.npz')\n",
    "# data = fetch('var/vcc_data.npz')\n",
    "logger.info('Data loaded #%d' % len(data))\n",
    "\n",
    "patches = data[:, Colum.patch]\n",
    "labels = data[:, Colum.type]\n",
    "\n",
    "# Note: Be sure that unicode(patch, 'utf-8')\n",
    "print 'Start extracting lines...'\n",
    "cleansed_paches = [u''] * len(patches)\n",
    "invalid_paches = []\n",
    "\n",
    "matcher = r'(\\d+)'\n",
    "for index, patch in enumerate(patches):\n",
    "    try:\n",
    "#         patch = re.sub(matcher, logarithm, patch)\n",
    "        cleansed_paches[index] = u' '.join(LineExtractor.extract_lines(patch.splitlines()))\n",
    "    except UnidiffParseError as e:\n",
    "        # @todo Recover 445 patches at total in vcc_data.npz\n",
    "        invalid_paches.append((index, patch, e))\n",
    "\n",
    "print 'Completed extracting lines including #%d invalid patches.' % len(invalid_paches)\n",
    "\n",
    "# @TODO: stop_words=[]\n",
    "vectorizer = CountVectorizer(min_df=2, stop_words=None)\n",
    "vectorized = vectorizer.fit_transform(cleansed_paches) # csr_matrix\n",
    "# feature_names = vectorizer.get_feature_names()\n",
    "X = vectorized\n",
    "\n",
    "# Now X is sparse csr_matrix looks like:\n",
    "# [[0 0 0 ..., 0 0 0]\n",
    "#  [0 0 0 ..., 0 0 0]\n",
    "#  [0 0 0 ..., 0 0 0]\n",
    "#  ..., \n",
    "#  [0 0 0 ..., 0 0 0]\n",
    "#  [0 0 0 ..., 0 0 0]\n",
    "#  [0 0 0 ..., 0 0 0]]\n",
    "\n",
    "# Bind metrics from Git metadata\n",
    "target_metrics = map(lambda n:n-1, [\n",
    "    Colum.additions,\n",
    "    Colum.deletions,\n",
    "    Colum.past_different_authors,\n",
    "    Colum.future_different_authors,\n",
    "    Colum.author_contributions_percent,\n",
    "    Colum.hunk_count,\n",
    "    Colum.files_changed,\n",
    "])\n",
    "metrics_data = np.array([row[target_metrics] for row in data])\n",
    "\n",
    "X2 = sparse.hstack((X, metrics_data.astype(float)))\n",
    "y = is_vcc = (labels == 'blamed_commit')\n",
    "\n",
    "# Split into training and test\n",
    "X_train, X_test, y_train, y_test = train_test_split(X2, y, test_size=.5, random_state=0)\n",
    "\n",
    "# Run classifier\n",
    "weight = {0:1, 1:.01}\n",
    "classifier = LinearSVC(C=1.0, class_weight=weight)\n",
    "y_score = classifier.fit(X_train, y_train).decision_function(X_test)\n",
    "\n",
    "# Compute Precision-Recall and plot curve\n",
    "precision = dict()\n",
    "recall = dict()\n",
    "average_precision = dict()\n",
    "precision[0], recall[0], _ = precision_recall_curve(y_test, y_score)\n",
    "average_precision[0] = average_precision_score(y_test, y_score)\n",
    "\n",
    "print average_precision\n",
    "\n",
    "# Plot Precision-Recall curve\n",
    "plt.clf()\n",
    "plt.plot(recall[0], precision[0], label='Precision-Recall curve')\n",
    "plt.xlabel('Recall')\n",
    "plt.ylabel('Precision')\n",
    "plt.ylim([0.0, 1.05])\n",
    "plt.xlim([0.0, 1.0])\n",
    "plt.title('Precision-Recall example: AUC={0:0.2f}'.format(average_precision[0]))\n",
    "plt.legend(loc=\"lower left\")\n",
    "plt.savefig(\"figure_%s\" % datetime.now().strftime('%s'))\n",
    "\n",
    "!osascript -e 'display notification \"Done\" with title \"VCC-Note\" sound name \"Purr\"'\n",
    "# !open ."
   ]
  },
  {
   "cell_type": "code",
   "execution_count": null,
   "metadata": {
    "collapsed": true
   },
   "outputs": [],
   "source": [
    ""
   ]
  }
 ],
 "metadata": {
  "kernelspec": {
   "display_name": "Python 2",
   "language": "python",
   "name": "python2"
  },
  "language_info": {
   "codemirror_mode": {
    "name": "ipython",
    "version": 2.0
   },
   "file_extension": ".py",
   "mimetype": "text/x-python",
   "name": "python",
   "nbconvert_exporter": "python",
   "pygments_lexer": "ipython2",
   "version": "2.7.11"
  }
 },
 "nbformat": 4,
 "nbformat_minor": 0
}