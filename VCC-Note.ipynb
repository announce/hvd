{
 "cells": [
  {
   "cell_type": "code",
   "execution_count": 14,
   "metadata": {
    "collapsed": false
   },
   "outputs": [
    {
     "data": {
      "text/plain": [
       "(11366493L,\n",
       " 260L,\n",
       " None,\n",
       " 'blamed_commit',\n",
       " 'a6afdde95c98310c8e947327685a51508743a23a',\n",
       " None,\n",
       " 'daniel.lezcano@free.fr',\n",
       " 'Daniel Lezcano',\n",
       " datetime.datetime(2010, 10, 3, 21, 9, 36, tzinfo=psycopg2.tz.FixedOffsetTimezone(offset=0, name=None)),\n",
       " 'dlezcano@fr.ibm.com',\n",
       " 'Daniel Lezcano',\n",
       " datetime.datetime(2010, 10, 3, 21, 9, 36, tzinfo=psycopg2.tz.FixedOffsetTimezone(offset=0, name=None)),\n",
       " 132L,\n",
       " 91L,\n",
       " None,\n",
       " 127L,\n",
       " 280L,\n",
       " 2L,\n",
       " 41L,\n",
       " 0.063125,\n",
       " 'allow to specify a image or a device block as rootfs\\n\\nThis patch allows to specify an image or a block device.\\n\\nThe image or the block device is mounted on rootfs->mount.\\n\\nSigned-off-by: Daniel Lezcano <dlezcano@fr.ibm.com>\\n',\n",
       " 'diff --git a/src/lxc/conf.c b/src/lxc/conf.c\\nindex dac5b45..adfe862 100644\\n--- a/src/lxc/conf.c\\n+++ b/src/lxc/conf.c\\n@@ -48,6 +48,8 @@\\n #include <net/if.h>\\n #include <libgen.h>\\n \\n+#include <linux/loop.h>\\n+\\n #include \"network.h\"\\n #include \"error.h\"\\n #include \"parse.h\"\\n@@ -142,7 +144,7 @@ static struct mount_opt mount_opt[] = {\\n };\\n \\n static struct caps_opt caps_opt[] = {\\n-\\t{ \"chown\",             CAP_CHOWN \\t     },\\n+\\t{ \"chown\",             CAP_CHOWN             },\\n \\t{ \"dac_override\",      CAP_DAC_OVERRIDE      },\\n \\t{ \"dac_read_search\",   CAP_DAC_READ_SEARCH   },\\n \\t{ \"fowner\",            CAP_FOWNER            },\\n@@ -182,13 +184,11 @@ static struct caps_opt caps_opt[] = {\\n \\t{ \"mac_admin\",         CAP_MAC_ADMIN         },\\n };\\n \\n-#if 0 /* will be reactivated with image mounting support */\\n-static int configure_find_fstype_cb(char* buffer, void *data)\\n+static int find_fstype_cb(char* buffer, void *data)\\n {\\n \\tstruct cbarg {\\n \\t\\tconst char *rootfs;\\n-\\t\\tconst char *testdir;\\n-\\t\\tchar *fstype;\\n+\\t\\tconst char *target;\\n \\t\\tint mntopt;\\n \\t} *cbarg = data;\\n \\n@@ -202,33 +202,38 @@ static int configure_find_fstype_cb(char* buffer, void *data)\\n \\tfstype += lxc_char_left_gc(fstype, strlen(fstype));\\n \\tfstype[lxc_char_right_gc(fstype, strlen(fstype))] = \\'\\\\0\\';\\n \\n-\\tif (mount(cbarg->rootfs, cbarg->testdir, fstype, cbarg->mntopt, NULL))\\n+\\tDEBUG(\"trying to mount \\'%s\\'->\\'%s\\' with fstype \\'%s\\'\",\\n+\\t      cbarg->rootfs, cbarg->target, fstype);\\n+\\n+\\tif (mount(cbarg->rootfs, cbarg->target, fstype, cbarg->mntopt, NULL)) {\\n+\\t\\tDEBUG(\"mount failed with error: %s\", strerror(errno));\\n \\t\\treturn 0;\\n+\\t}\\n \\n-\\t/* found ! */\\n-\\tumount(cbarg->testdir);\\n-\\tstrcpy(cbarg->fstype, fstype);\\n+\\tINFO(\"mounted \\'%s\\' on \\'%s\\', with fstype \\'%s\\'\",\\n+\\t     cbarg->rootfs, cbarg->target, fstype);\\n \\n \\treturn 1;\\n }\\n \\n-/* find the filesystem type with brute force */\\n-static int configure_find_fstype(const char *rootfs, char *fstype, int mntopt)\\n+static int setup_mount_unknow_fs(const char *rootfs,\\n+\\t\\t\\t\\t const char *target, int mntopt)\\n {\\n-\\tint i, found;\\n+\\tint i;\\n \\n \\tstruct cbarg {\\n \\t\\tconst char *rootfs;\\n-\\t\\tconst char *testdir;\\n-\\t\\tchar *fstype;\\n+\\t\\tconst char *target;\\n \\t\\tint mntopt;\\n \\t} cbarg = {\\n \\t\\t.rootfs = rootfs,\\n-\\t\\t.fstype = fstype,\\n+\\t\\t.target = target,\\n \\t\\t.mntopt = mntopt,\\n \\t};\\n \\n-\\t/* first we check with /etc/filesystems, in case the modules\\n+\\t/*\\n+\\t * find the filesystem type with brute force:\\n+\\t * first we check with /etc/filesystems, in case the modules\\n \\t * are auto-loaded and fall back to the supported kernel fs\\n \\t */\\n \\tchar *fsfile[] = {\\n@@ -236,79 +241,144 @@ static int configure_find_fstype(const char *rootfs, char *fstype, int mntopt)\\n \\t\\t\"/proc/filesystems\",\\n \\t};\\n \\n-\\tcbarg.testdir = tempnam(\"/tmp\", \"lxc-\");\\n-\\tif (!cbarg.testdir) {\\n-\\t\\tSYSERROR(\"failed to build a temp name\");\\n-\\t\\treturn -1;\\n+\\tfor (i = 0; i < sizeof(fsfile)/sizeof(fsfile[0]); i++) {\\n+\\n+\\t\\tint ret;\\n+\\n+\\t\\tif (access(fsfile[i], F_OK))\\n+\\t\\t\\tcontinue;\\n+\\n+\\t\\tret = lxc_file_for_each_line(fsfile[i], find_fstype_cb, &cbarg);\\n+\\t\\tif (ret < 0) {\\n+\\t\\t\\tERROR(\"failed to parse \\'%s\\'\", fsfile[i]);\\n+\\t\\t\\treturn -1;\\n+\\t\\t}\\n+\\n+\\t\\tif (ret)\\n+\\t\\t\\treturn 0;\\n \\t}\\n \\n-\\tif (mkdir(cbarg.testdir, 0755)) {\\n-\\t\\tSYSERROR(\"failed to create temporary directory\");\\n+\\tERROR(\"failed to determine fs type for \\'%s\\'\", rootfs);\\n+\\treturn -1;\\n+}\\n+\\n+static int setup_mount_rootfs_dir(const char *rootfs, const char *target)\\n+{\\n+\\treturn mount(rootfs, target, \"none\", MS_BIND | MS_REC, NULL);\\n+}\\n+\\n+static int setup_lodev(const char *rootfs, int fd, struct loop_info64 *loinfo)\\n+{\\n+\\tint rfd;\\n+\\tint ret = -1;\\n+\\n+\\trfd = open(rootfs, O_RDWR);\\n+\\tif (rfd < 0) {\\n+\\t\\tSYSERROR(\"failed to open \\'%s\\'\", rootfs);\\n \\t\\treturn -1;\\n \\t}\\n \\n-\\tfor (i = 0; i < sizeof(fsfile)/sizeof(fsfile[0]); i++) {\\n-\\n-\\t\\tfound = lxc_file_for_each_line(fsfile[i],\\n-\\t\\t\\t\\t\\t       configure_find_fstype_cb,\\n-\\t\\t\\t\\t\\t       &cbarg);\\n+\\tmemset(loinfo, 0, sizeof(*loinfo));\\n \\n-\\t\\tif (found < 0) {\\n-\\t\\t\\tSYSERROR(\"failed to read \\'%s\\'\", fsfile[i]);\\n-\\t\\t\\tgoto out;\\n-\\t\\t}\\n+\\tloinfo->lo_flags = LO_FLAGS_AUTOCLEAR;\\n \\n-\\t\\tif (found)\\n-\\t\\t\\tbreak;\\n+\\tif (ioctl(fd, LOOP_SET_FD, rfd)) {\\n+\\t\\tSYSERROR(\"failed to LOOP_SET_FD\");\\n+\\t\\tgoto out;\\n \\t}\\n \\n-\\tif (!found) {\\n-\\t\\tERROR(\"failed to determine fs type for \\'%s\\'\", rootfs);\\n+\\tif (ioctl(fd, LOOP_SET_STATUS64, loinfo)) {\\n+\\t\\tSYSERROR(\"failed to LOOP_SET_STATUS64\");\\n \\t\\tgoto out;\\n \\t}\\n \\n+\\tret = 0;\\n out:\\n-\\trmdir(cbarg.testdir);\\n-\\treturn found - 1;\\n-}\\n+\\tclose(rfd);\\n \\n-static int configure_rootfs_dir_cb(const char *rootfs, const char *absrootfs,\\n-\\t\\t\\t\\t   FILE *f)\\n-{\\n-\\treturn fprintf(f, \"%s %s none rbind 0 0\\\\n\", absrootfs, rootfs);\\n+\\treturn ret;\\n }\\n \\n-static int configure_rootfs_blk_cb(const char *rootfs, const char *absrootfs,\\n-\\t\\t\\t\\t   FILE *f)\\n+static int setup_mount_rootfs_file(const char *rootfs, const char *target)\\n {\\n-\\tchar fstype[MAXPATHLEN];\\n+\\tstruct dirent dirent, *direntp;\\n+\\tstruct loop_info64 loinfo;\\n+\\tint ret = -1, fd = -1;\\n+\\tDIR *dir;\\n+\\tchar path[MAXPATHLEN];\\n \\n-\\tif (configure_find_fstype(absrootfs, fstype, 0)) {\\n-\\t\\tERROR(\"failed to configure mount for block device \\'%s\\'\",\\n-\\t\\t\\t      absrootfs);\\n+\\tdir = opendir(\"/dev\");\\n+\\tif (!dir) {\\n+\\t\\tSYSERROR(\"failed to open \\'/dev\\'\");\\n \\t\\treturn -1;\\n \\t}\\n \\n-\\treturn fprintf(f, \"%s %s %s defaults 0 0\\\\n\", absrootfs, rootfs, fstype);\\n+\\twhile (!readdir_r(dir, &dirent, &direntp)) {\\n+\\n+\\t\\tif (!direntp)\\n+\\t\\t\\tbreak;\\n+\\n+\\t\\tif (!strcmp(direntp->d_name, \".\"))\\n+\\t\\t\\tcontinue;\\n+\\n+\\t\\tif (!strcmp(direntp->d_name, \"..\"))\\n+\\t\\t\\tcontinue;\\n+\\n+\\t\\tif (strncmp(direntp->d_name, \"loop\", 4))\\n+\\t\\t\\tcontinue;\\n+\\n+\\t\\tsprintf(path, \"/dev/%s\", direntp->d_name);\\n+\\t\\tfd = open(path, O_RDWR);\\n+\\t\\tif (fd < 0)\\n+\\t\\t\\tcontinue;\\n+\\n+\\t\\tif (ioctl(fd, LOOP_GET_STATUS64, &loinfo) == 0) {\\n+\\t\\t\\tclose(fd);\\n+\\t\\t\\tcontinue;\\n+\\t\\t}\\n+\\n+\\t\\tif (errno != ENXIO) {\\n+\\t\\t\\tWARN(\"unexpected error for ioctl on \\'%s\\': %m\",\\n+\\t\\t\\t     direntp->d_name);\\n+\\t\\t\\tcontinue;\\n+\\t\\t}\\n+\\n+\\t\\tDEBUG(\"found \\'%s\\' free lodev\", path);\\n+\\n+\\t\\tret = setup_lodev(rootfs, fd, &loinfo);\\n+\\t\\tif (!ret)\\n+\\t\\t\\tret = setup_mount_unknow_fs(path, target, 0);\\n+\\t\\tclose(fd);\\n+\\n+\\t\\tbreak;\\n+\\t}\\n+\\n+\\tif (closedir(dir))\\n+\\t\\tWARN(\"failed to close directory\");\\n+\\n+\\treturn ret;\\n }\\n \\n-static int configure_rootfs(const char *name, const char *rootfs)\\n+static int setup_mount_rootfs_block(const char *rootfs, const char *target)\\n+{\\n+\\treturn setup_mount_unknow_fs(rootfs, target, 0);\\n+}\\n+\\n+static int setup_mount_rootfs(const char *rootfs, const char *target)\\n {\\n-\\tchar path[MAXPATHLEN];\\n \\tchar absrootfs[MAXPATHLEN];\\n-\\tchar fstab[MAXPATHLEN];\\n \\tstruct stat s;\\n-\\tFILE *f;\\n-\\tint i, ret;\\n+\\tint i;\\n \\n-\\ttypedef int (*rootfs_cb)(const char *, const char *, FILE *);\\n+\\ttypedef int (*rootfs_cb)(const char *, const char *);\\n \\n \\tstruct rootfs_type {\\n \\t\\tint type;\\n \\t\\trootfs_cb cb;\\n \\t} rtfs_type[] = {\\n-\\t\\t{ __S_IFDIR, configure_rootfs_dir_cb },\\n-\\t\\t{ __S_IFBLK, configure_rootfs_blk_cb },\\n+\\t\\t{ S_IFDIR, setup_mount_rootfs_dir },\\n+\\t\\t{ S_IFBLK, setup_mount_rootfs_block },\\n+\\t\\t{ S_IFREG, setup_mount_rootfs_file },\\n \\t};\\n \\n \\tif (!realpath(rootfs, absrootfs)) {\\n@@ -316,13 +386,6 @@ static int configure_rootfs(const char *name, const char *rootfs)\\n \\t\\treturn -1;\\n \\t}\\n \\n-\\tsnprintf(path, MAXPATHLEN, LXCPATH \"/%s/rootfs\", name);\\n-\\n-\\tif (mkdir(path, 0755)) {\\n-\\t\\tSYSERROR(\"failed to create the \\'%s\\' directory\", path);\\n-\\t\\treturn -1;\\n-\\t}\\n-\\n \\tif (access(absrootfs, F_OK)) {\\n \\t\\tSYSERROR(\"\\'%s\\' is not accessible\", absrootfs);\\n \\t\\treturn -1;\\n@@ -338,32 +401,12 @@ static int configure_rootfs(const char *name, const char *rootfs)\\n \\t\\tif (!__S_ISTYPE(s.st_mode, rtfs_type[i].type))\\n \\t\\t\\tcontinue;\\n \\n-\\t\\tsnprintf(fstab, MAXPATHLEN, LXCPATH \"/%s/fstab\", name);\\n-\\n-\\t\\tf = fopen(fstab, \"a+\");\\n-\\t\\tif (!f) {\\n-\\t\\t\\tSYSERROR(\"failed to open fstab file\");\\n-\\t\\t\\treturn -1;\\n-\\t\\t}\\n-\\n-\\t\\tret = rtfs_type[i].cb(path, absrootfs, f);\\n-\\n-\\t\\tfclose(f);\\n-\\n-\\t\\tif (ret < 0) {\\n-\\t\\t\\tERROR(\"failed to add rootfs mount in fstab\");\\n-\\t\\t\\treturn -1;\\n-\\t\\t}\\n-\\n-\\t\\tsnprintf(path, MAXPATHLEN, LXCPATH \"/%s/rootfs/rootfs\", name);\\n-\\n-\\t\\treturn symlink(absrootfs, path);\\n+\\t\\treturn rtfs_type[i].cb(absrootfs, target);\\n \\t}\\n \\n \\tERROR(\"unsupported rootfs type for \\'%s\\'\", absrootfs);\\n \\treturn -1;\\n }\\n-#endif\\n \\n static int setup_utsname(struct utsname *utsname)\\n {\\n@@ -603,9 +646,8 @@ static int setup_rootfs(const struct lxc_rootfs *rootfs)\\n \\t\\treturn -1;\\n \\t}\\n \\n-\\tif (mount(rootfs->path, rootfs->mount, \"none\", MS_BIND|MS_REC, NULL)) {\\n-\\t\\tSYSERROR(\"failed to mount \\'%s\\'->\\'%s\\'\",\\n-\\t\\t\\t rootfs->path, rootfs->mount);\\n+\\tif (setup_mount_rootfs(rootfs->path, rootfs->mount)) {\\n+\\t\\tERROR(\"failed to mount rootfs\");\\n \\t\\treturn -1;\\n \\t}\\n \\n@@ -624,8 +666,6 @@ int setup_pivot_root(const struct lxc_rootfs *rootfs)\\n \\t\\treturn -1;\\n \\t}\\n \\n-\\tDEBUG(\"pivot rooted to \\'%s\\'\", rootfs->mount);\\n-\\n \\treturn 0;\\n }\\n \\n@@ -639,7 +679,8 @@ static int setup_pts(int pts)\\n \\t\\treturn -1;\\n \\t}\\n \\n-\\tif (mount(\"devpts\", \"/dev/pts\", \"devpts\", MS_MGC_VAL, \"newinstance,ptmxmode=0666\")) {\\n+\\tif (mount(\"devpts\", \"/dev/pts\", \"devpts\", MS_MGC_VAL,\\n+\\t\\t  \"newinstance,ptmxmode=0666\")) {\\n \\t\\tSYSERROR(\"failed to mount a new instance of \\'/dev/pts\\'\");\\n \\t\\treturn -1;\\n \\t}\\n',\n",
       " 10L,\n",
       " '',\n",
       " 0L,\n",
       " '\"do\"=>\"0\", \"if\"=>\"36\", \"asm\"=>\"0\", \"for\"=>\"7\", \"int\"=>\"38\", \"new\"=>\"1\", \"try\"=>\"0\", \"auto\"=>\"1\", \"bool\"=>\"0\", \"case\"=>\"2\", \"char\"=>\"46\", \"else\"=>\"0\", \"enum\"=>\"0\", \"goto\"=>\"3\", \"long\"=>\"0\", \"this\"=>\"0\", \"true\"=>\"0\", \"void\"=>\"3\", \"break\"=>\"3\", \"catch\"=>\"0\", \"class\"=>\"0\", \"const\"=>\"35\", \"false\"=>\"0\", \"float\"=>\"0\", \"short\"=>\"0\", \"throw\"=>\"0\", \"union\"=>\"0\", \"using\"=>\"0\", \"while\"=>\"1\", \"delete\"=>\"0\", \"double\"=>\"0\", \"extern\"=>\"0\", \"friend\"=>\"0\", \"inline\"=>\"0\", \"public\"=>\"0\", \"return\"=>\"29\", \"signed\"=>\"0\", \"sizeof\"=>\"5\", \"static\"=>\"22\", \"struct\"=>\"13\", \"switch\"=>\"0\", \"typeid\"=>\"0\", \"default\"=>\"0\", \"mutable\"=>\"0\", \"private\"=>\"0\", \"typedef\"=>\"2\", \"virtual\"=>\"0\", \"wchar_t\"=>\"0\", \"continue\"=>\"8\", \"explicit\"=>\"0\", \"operator\"=>\"0\", \"register\"=>\"0\", \"template\"=>\"0\", \"typename\"=>\"0\", \"unsigned\"=>\"0\", \"volatile\"=>\"0\", \"namespace\"=>\"0\", \"protected\"=>\"0\", \"const_cast\"=>\"0\", \"static_cast\"=>\"0\", \"dynamic_cast\"=>\"0\", \"reinterpret_cast\"=>\"0\"')"
      ]
     },
     "execution_count": 14,
     "metadata": {},
     "output_type": "execute_result"
    }
   ],
   "source": [
    "import psycopg2\n",
    "conn = psycopg2.connect(\"dbname=postgres host=localhost user=postgres\")\n",
    "cur = conn.cursor()\n",
    "cur.execute(\"SELECT * FROM export.commits WHERE id IN (11366493) LIMIT 1;\")\n",
    "cur.fetchone()"
   ]
  },
  {
   "cell_type": "code",
   "execution_count": null,
   "metadata": {
    "collapsed": true
   },
   "outputs": [],
   "source": []
  },
  {
   "cell_type": "code",
   "execution_count": null,
   "metadata": {
    "collapsed": true
   },
   "outputs": [],
   "source": []
  },
  {
   "cell_type": "code",
   "execution_count": null,
   "metadata": {
    "collapsed": true
   },
   "outputs": [],
   "source": []
  }
 ],
 "metadata": {
  "kernelspec": {
   "display_name": "Python 2",
   "language": "python",
   "name": "python2"
  },
  "language_info": {
   "codemirror_mode": {
    "name": "ipython",
    "version": 2
   },
   "file_extension": ".py",
   "mimetype": "text/x-python",
   "name": "python",
   "nbconvert_exporter": "python",
   "pygments_lexer": "ipython2",
   "version": "2.7.11"
  }
 },
 "nbformat": 4,
 "nbformat_minor": 0
}
