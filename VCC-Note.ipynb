{
 "cells": [
  {
   "cell_type": "markdown",
   "metadata": {},
   "source": [
    "#### Columns\n",
    "0. id\n",
    "1. repository_id\n",
    "2. blamed_commit_id\n",
    "3. type\n",
    "4. sha\n",
    "5. url\n",
    "6. author_email\n",
    "7. author_name\n",
    "8. author_when\n",
    "9. committer_email\n",
    "10. committer_name\n",
    "11. committer_when\n",
    "12. additions\n",
    "13. deletions\n",
    "14. total_changes\n",
    "15. past_changes\n",
    "16. future_changes\n",
    "17. past_different_authors\n",
    "18. future_different_authors\n",
    "19. author_contributions_percent\n",
    "20. message\n",
    "21. patch\n",
    "22. hunk_count\n",
    "23. cve\n",
    "24. files_changed\n",
    "25. patch_keywords"
   ]
  },
  {
   "cell_type": "code",
   "execution_count": 1,
   "metadata": {
    "collapsed": false
   },
   "outputs": [
    {
     "data": {
      "text/plain": [
       "[('blamed_commit', 714L), ('fixing_commit', 1137L), ('other_commit', 349558L)]"
      ]
     },
     "execution_count": 1,
     "metadata": {},
     "output_type": "execute_result"
    }
   ],
   "source": [
    "import psycopg2\n",
    "conn = psycopg2.connect(\"dbname=postgres host=localhost port=55432 user=postgres\")\n",
    "cur = conn.cursor()\n",
    "cur.execute(\"SELECT type, COUNT(id) FROM export.commits GROUP BY type\")\n",
    "cur.fetchall()\n"
   ]
  },
  {
   "cell_type": "code",
   "execution_count": 5,
   "metadata": {
    "collapsed": false
   },
   "outputs": [
    {
     "name": "stdout",
     "output_type": "stream",
     "text": [
      "Accuracy: 0.95 (+/- 0.01)\n"
     ]
    }
   ],
   "source": [
    "from sklearn.svm import LinearSVC\n",
    "from sklearn.feature_extraction.text import TfidfVectorizer\n",
    "from sklearn import cross_validation\n",
    "import numpy as np\n",
    "import scipy as sp\n",
    "import psycopg2\n",
    "import enum\n",
    "\n",
    "class Colum(enum.IntEnum):\n",
    "    id = 1\n",
    "    type = 3\n",
    "    patch = 21\n",
    "    \n",
    "class Data:\n",
    "    def __init__(self, config):\n",
    "        self.cur = psycopg2.connect(config).cursor()\n",
    "    def fetchAll(self, sql):\n",
    "        self.cur.execute(sql)\n",
    "        return np.array(self.cur.fetchall())\n",
    "\n",
    "def tfidf(text):\n",
    "    # @TODO preprocessor: log number\n",
    "    vectorizer = TfidfVectorizer(min_df=1)\n",
    "    vectorized = vectorizer.fit_transform(text)\n",
    "#     print vectorizer.get_feature_names()\n",
    "    return vectorized.toarray()\n",
    "\n",
    "# Fetch original data\n",
    "data = Data(\"dbname=postgres host=localhost port=55432 user=postgres\")\n",
    "vcc = data.fetchAll(\"SELECT * FROM export.commits WHERE type  = 'blamed_commit' ORDER BY RANDOM() LIMIT 50\")\n",
    "ucc = data.fetchAll(\"SELECT * FROM export.commits WHERE type != 'blamed_commit' ORDER BY RANDOM() LIMIT 1000\")\n",
    "\n",
    "# Concat onece and shuffle\n",
    "sample = np.concatenate([vcc, ucc])\n",
    "np.random.shuffle(sample)\n",
    "patches = sample[:, Colum.patch]\n",
    "labels = sample[:, Colum.type]\n",
    "\n",
    "x = tfidf(patches)\n",
    "y = is_vcc = (labels == 'blamed_commit')\n",
    "vcc_paches = patches[is_vcc]\n",
    "ucc_paches = patches[~is_vcc]\n",
    "\n",
    "clf = LinearSVC(C=1.0)\n",
    "scores = cross_validation.cross_val_score(clf, x, y, cv=5)\n",
    "print(\"Accuracy: %0.2f (+/- %0.2f)\" % (scores.mean(), scores.std() * 2))\n"
   ]
  },
  {
   "cell_type": "code",
   "execution_count": null,
   "metadata": {
    "collapsed": true
   },
   "outputs": [],
   "source": []
  },
  {
   "cell_type": "code",
   "execution_count": null,
   "metadata": {
    "collapsed": true
   },
   "outputs": [],
   "source": []
  }
 ],
 "metadata": {
  "kernelspec": {
   "display_name": "Python 2",
   "language": "python",
   "name": "python2"
  },
  "language_info": {
   "codemirror_mode": {
    "name": "ipython",
    "version": 2
   },
   "file_extension": ".py",
   "mimetype": "text/x-python",
   "name": "python",
   "nbconvert_exporter": "python",
   "pygments_lexer": "ipython2",
   "version": "2.7.11"
  }
 },
 "nbformat": 4,
 "nbformat_minor": 0
}
